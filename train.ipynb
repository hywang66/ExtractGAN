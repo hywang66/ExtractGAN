{
 "cells": [
  {
   "cell_type": "code",
   "execution_count": 1,
   "metadata": {},
   "outputs": [],
   "source": [
    "import torch\n",
    "import torch.nn as nn\n",
    "from torch.nn import init\n",
    "from torch.nn import functional as F\n",
    "import torchvision.models\n",
    "import torchvision.transforms as transforms\n",
    "from options.train_options import TrainOptions\n",
    "import extract_gan as E\n",
    "import sys; sys.argv=['']; del sys"
   ]
  },
  {
   "cell_type": "code",
   "execution_count": 2,
   "metadata": {},
   "outputs": [
    {
     "name": "stdout",
     "output_type": "stream",
     "text": [
      "----------------- Options ---------------\n",
      "               batch_size: 1                             \n",
      "                    beta1: 0.5                           \n",
      "          checkpoints_dir: ./checkpoints                 \n",
      "           continue_train: False                         \n",
      "             dataset_mode: unaligned                     \n",
      "                direction: AtoB                          \n",
      "              display_env: main                          \n",
      "             display_freq: 400                           \n",
      "               display_id: 1                             \n",
      "            display_ncols: 4                             \n",
      "             display_port: 8097                          \n",
      "           display_server: http://localhost              \n",
      "          display_winsize: 256                           \n",
      "                    epoch: latest                        \n",
      "              epoch_count: 1                             \n",
      "                 fineSize: 256                           \n",
      "                  gpu_ids: -1                            \n",
      "                init_gain: 0.02                          \n",
      "                init_type: xavier                        \n",
      "                 input_nc: 3                             \n",
      "                  isTrain: True                          \t[default: None]\n",
      "                 loadSize: 286                           \n",
      "                load_iter: 0                             \t[default: 0]\n",
      "                       lr: 0.0002                        \n",
      "           lr_decay_iters: 50                            \n",
      "                lr_policy: lambda                        \n",
      "         max_dataset_size: inf                           \n",
      "                    model: cycle_gan                     \n",
      "               n_layers_D: 3                             \n",
      "                     name: ExtractGAN_2018-12-01-06-58-03_UTC\t[default: experiment_name]\n",
      "                      ndf: 64                            \n",
      "                     netD: basic                         \n",
      "                     netG: resnet_9blocks                \n",
      "                      ngf: 64                            \n",
      "                    niter: 100                           \n",
      "              niter_decay: 100                           \n",
      "               no_dropout: False                         \n",
      "                  no_flip: False                         \n",
      "                  no_html: False                         \n",
      "                 no_lsgan: False                         \n",
      "                     norm: instance                      \n",
      "              num_threads: 4                             \n",
      "                output_nc: 3                             \n",
      "                    phase: train                         \n",
      "                pool_size: 50                            \n",
      "               print_freq: 100                           \n",
      "           resize_or_crop: resize_and_crop               \n",
      "             save_by_iter: False                         \n",
      "          save_epoch_freq: 5                             \n",
      "         save_latest_freq: 5000                          \n",
      "           serial_batches: False                         \n",
      "         update_html_freq: 1000                          \n",
      "                  verbose: False                         \n",
      "----------------- End -------------------\n"
     ]
    }
   ],
   "source": [
    "# %tb \n",
    "opt = TrainOptions().parse()"
   ]
  },
  {
   "cell_type": "code",
   "execution_count": 3,
   "metadata": {},
   "outputs": [],
   "source": [
    "# opt.init_type"
   ]
  },
  {
   "cell_type": "code",
   "execution_count": null,
   "metadata": {},
   "outputs": [],
   "source": []
  },
  {
   "cell_type": "code",
   "execution_count": 4,
   "metadata": {},
   "outputs": [
    {
     "name": "stdout",
     "output_type": "stream",
     "text": [
      "VGG parameters loaded.\n",
      "Encoder weights initialized using xavier.\n",
      "Decoder weights initialized using xavier.\n",
      "StyleExtractor weights initialized using xavier.\n",
      "StyleWhitener weights initialized using xavier.\n",
      "Generator build success!\n",
      "Discriminator weights initialized using xavier.\n",
      "New ExtractGAN model initialized!\n"
     ]
    }
   ],
   "source": [
    "model = E.ExtractGANModel(opt)"
   ]
  },
  {
   "cell_type": "code",
   "execution_count": 4,
   "metadata": {},
   "outputs": [],
   "source": [
    "model.save_networks('test')"
   ]
  },
  {
   "cell_type": "code",
   "execution_count": 5,
   "metadata": {},
   "outputs": [],
   "source": [
    "model.train()\n",
    "# model.eval()"
   ]
  },
  {
   "cell_type": "code",
   "execution_count": 7,
   "metadata": {},
   "outputs": [
    {
     "data": {
      "text/plain": [
       "True"
      ]
     },
     "execution_count": 7,
     "metadata": {},
     "output_type": "execute_result"
    }
   ],
   "source": [
    "# model.D.vgg16.training\n",
    "model.D.training"
   ]
  },
  {
   "cell_type": "code",
   "execution_count": 8,
   "metadata": {},
   "outputs": [
    {
     "data": {
      "text/plain": [
       "True"
      ]
     },
     "execution_count": 8,
     "metadata": {},
     "output_type": "execute_result"
    }
   ],
   "source": [
    "model.vgg16 is model.G.style_extractor.vgg16"
   ]
  },
  {
   "cell_type": "code",
   "execution_count": 9,
   "metadata": {},
   "outputs": [
    {
     "data": {
      "text/plain": [
       "True"
      ]
     },
     "execution_count": 9,
     "metadata": {},
     "output_type": "execute_result"
    }
   ],
   "source": [
    "model.vgg16 is model.D.vgg16"
   ]
  },
  {
   "cell_type": "code",
   "execution_count": 5,
   "metadata": {},
   "outputs": [
    {
     "data": {
      "text/plain": [
       "torch.Size([2, 3, 224, 224])"
      ]
     },
     "execution_count": 5,
     "metadata": {},
     "output_type": "execute_result"
    }
   ],
   "source": [
    "a = torch.randn(2,3,224,224)\n",
    "a.shape"
   ]
  },
  {
   "cell_type": "code",
   "execution_count": 6,
   "metadata": {},
   "outputs": [
    {
     "data": {
      "text/plain": [
       "torch.Size([2, 3, 224, 224])"
      ]
     },
     "execution_count": 6,
     "metadata": {},
     "output_type": "execute_result"
    }
   ],
   "source": [
    "b = torch.randn(2,3,224,224)\n",
    "b.shape"
   ]
  },
  {
   "cell_type": "code",
   "execution_count": 7,
   "metadata": {},
   "outputs": [
    {
     "data": {
      "text/plain": [
       "tensor([[[[0.3769, 0.3769, 0.3769,  ..., 0.3769, 0.3769, 0.3769],\n",
       "          [0.3769, 0.4385, 0.3735,  ..., 0.3173, 0.3784, 0.3769],\n",
       "          [0.3769, 0.4233, 0.4880,  ..., 0.5069, 0.4186, 0.3769],\n",
       "          ...,\n",
       "          [0.3769, 0.4395, 0.6467,  ..., 0.5752, 0.4184, 0.3769],\n",
       "          [0.3769, 0.4549, 0.5081,  ..., 0.4295, 0.3781, 0.3769],\n",
       "          [0.3769, 0.3769, 0.3769,  ..., 0.3769, 0.3769, 0.3769]],\n",
       "\n",
       "         [[0.2461, 0.2461, 0.2461,  ..., 0.2461, 0.2461, 0.2461],\n",
       "          [0.2461, 0.2693, 0.3203,  ..., 0.3306, 0.2787, 0.2461],\n",
       "          [0.2461, 0.3008, 0.3732,  ..., 0.3558, 0.3079, 0.2461],\n",
       "          ...,\n",
       "          [0.2461, 0.3594, 0.4232,  ..., 0.3596, 0.2987, 0.2461],\n",
       "          [0.2461, 0.3246, 0.3797,  ..., 0.3202, 0.2700, 0.2461],\n",
       "          [0.2461, 0.2461, 0.2461,  ..., 0.2461, 0.2461, 0.2461]],\n",
       "\n",
       "         [[0.5390, 0.5390, 0.5390,  ..., 0.5390, 0.5390, 0.5390],\n",
       "          [0.5390, 0.4851, 0.4771,  ..., 0.4281, 0.4359, 0.5390],\n",
       "          [0.5390, 0.4481, 0.5265,  ..., 0.4803, 0.4486, 0.5390],\n",
       "          ...,\n",
       "          [0.5390, 0.5062, 0.5885,  ..., 0.4978, 0.4657, 0.5390],\n",
       "          [0.5390, 0.5433, 0.5686,  ..., 0.4784, 0.4530, 0.5390],\n",
       "          [0.5390, 0.5390, 0.5390,  ..., 0.5390, 0.5390, 0.5390]]],\n",
       "\n",
       "\n",
       "        [[[0.3773, 0.3773, 0.3773,  ..., 0.3773, 0.3773, 0.3773],\n",
       "          [0.3773, 0.4387, 0.3736,  ..., 0.3172, 0.3783, 0.3773],\n",
       "          [0.3773, 0.4237, 0.4429,  ..., 0.5134, 0.4186, 0.3773],\n",
       "          ...,\n",
       "          [0.3773, 0.4401, 0.6343,  ..., 0.5708, 0.4186, 0.3773],\n",
       "          [0.3773, 0.4551, 0.5082,  ..., 0.4295, 0.3783, 0.3773],\n",
       "          [0.3773, 0.3773, 0.3773,  ..., 0.3773, 0.3773, 0.3773]],\n",
       "\n",
       "         [[0.2455, 0.2455, 0.2455,  ..., 0.2455, 0.2455, 0.2455],\n",
       "          [0.2455, 0.2689, 0.3202,  ..., 0.3300, 0.2778, 0.2455],\n",
       "          [0.2455, 0.3005, 0.3792,  ..., 0.3615, 0.3067, 0.2455],\n",
       "          ...,\n",
       "          [0.2455, 0.3587, 0.4193,  ..., 0.3766, 0.2977, 0.2455],\n",
       "          [0.2455, 0.3238, 0.3787,  ..., 0.3193, 0.2693, 0.2455],\n",
       "          [0.2455, 0.2455, 0.2455,  ..., 0.2455, 0.2455, 0.2455]],\n",
       "\n",
       "         [[0.5391, 0.5391, 0.5391,  ..., 0.5391, 0.5391, 0.5391],\n",
       "          [0.5391, 0.4853, 0.4776,  ..., 0.4289, 0.4365, 0.5391],\n",
       "          [0.5391, 0.4481, 0.5247,  ..., 0.4990, 0.4491, 0.5391],\n",
       "          ...,\n",
       "          [0.5391, 0.5060, 0.5865,  ..., 0.5149, 0.4662, 0.5391],\n",
       "          [0.5391, 0.5433, 0.5689,  ..., 0.4794, 0.4535, 0.5391],\n",
       "          [0.5391, 0.5391, 0.5391,  ..., 0.5391, 0.5391, 0.5391]]]],\n",
       "       grad_fn=<SigmoidBackward>)"
      ]
     },
     "execution_count": 7,
     "metadata": {},
     "output_type": "execute_result"
    }
   ],
   "source": [
    "model.G(a,b)"
   ]
  },
  {
   "cell_type": "code",
   "execution_count": 8,
   "metadata": {},
   "outputs": [
    {
     "data": {
      "text/plain": [
       "tensor([[0.5000],\n",
       "        [0.5000]], grad_fn=<SigmoidBackward>)"
      ]
     },
     "execution_count": 8,
     "metadata": {},
     "output_type": "execute_result"
    }
   ],
   "source": [
    "model.D(a,b)"
   ]
  },
  {
   "cell_type": "code",
   "execution_count": 59,
   "metadata": {},
   "outputs": [
    {
     "data": {
      "text/plain": [
       "torch.Size([2, 3, 64, 64])"
      ]
     },
     "execution_count": 59,
     "metadata": {},
     "output_type": "execute_result"
    }
   ],
   "source": [
    "a.shape"
   ]
  },
  {
   "cell_type": "code",
   "execution_count": 62,
   "metadata": {},
   "outputs": [
    {
     "data": {
      "text/plain": [
       "tensor([[[[ 2.3989e+00, -6.7204e+00,  7.2132e+00,  ..., -5.9408e+00,\n",
       "           -1.2460e+01, -6.3582e+00],\n",
       "          [ 3.9324e+00,  8.6642e-01, -6.8124e+00,  ...,  6.3708e+00,\n",
       "            4.5303e+00,  2.4185e+00],\n",
       "          [ 6.6239e-01, -1.9510e+00, -5.1890e+00,  ..., -2.6839e+00,\n",
       "           -5.3858e+00, -6.0654e+00],\n",
       "          ...,\n",
       "          [ 2.9787e+00, -9.5114e+00, -7.7846e-01,  ..., -2.6961e+00,\n",
       "           -2.2449e+00, -4.9324e+00],\n",
       "          [ 2.1153e-01,  2.1305e+00, -3.6233e+00,  ..., -4.9931e+00,\n",
       "           -1.8343e+00, -6.9682e+00],\n",
       "          [-8.8566e-01, -1.8230e+00,  1.8203e+00,  ...,  9.6630e+00,\n",
       "            8.2382e+00, -3.1041e+00]],\n",
       "\n",
       "         [[-4.7079e+00, -2.4070e+00, -4.6795e+00,  ...,  1.5349e-01,\n",
       "           -6.6553e+00,  4.1584e+00],\n",
       "          [-4.0344e+00, -8.7326e+00,  3.2987e+00,  ..., -6.8027e+00,\n",
       "           -8.1533e-01,  2.3548e-01],\n",
       "          [-7.0116e+00, -5.8293e-01,  3.8684e+00,  ...,  7.2226e-01,\n",
       "           -6.8445e+00,  4.8851e-01],\n",
       "          ...,\n",
       "          [-1.7082e+00, -2.0675e+00,  5.2982e-01,  ..., -2.6504e+00,\n",
       "           -1.3321e+00, -2.0734e+00],\n",
       "          [ 3.3570e-01,  3.9229e+00, -2.7882e+00,  ..., -8.3649e-01,\n",
       "            3.7476e+00, -1.3896e+00],\n",
       "          [-4.3718e+00,  1.1657e+00,  1.6941e+00,  ..., -8.0497e+00,\n",
       "           -2.8413e+00, -1.0049e+01]],\n",
       "\n",
       "         [[-2.6791e+00, -9.2731e+00, -3.3055e+00,  ..., -6.9134e+00,\n",
       "            4.1268e-01, -5.8877e+00],\n",
       "          [-4.2312e+00, -2.4790e+00, -2.9613e+00,  ...,  2.0345e+00,\n",
       "            1.6639e+00,  4.9241e+00],\n",
       "          [-1.1399e+00, -8.8804e-02, -1.2602e-02,  ..., -3.6292e+00,\n",
       "            7.8049e+00, -5.2204e+00],\n",
       "          ...,\n",
       "          [-2.7254e+00,  6.9805e-01,  6.7471e+00,  ..., -1.1050e+01,\n",
       "            2.3776e+00,  5.8303e+00],\n",
       "          [ 1.9884e+00, -4.5539e+00, -5.0849e+00,  ..., -1.6345e+00,\n",
       "           -9.2588e+00, -4.1516e+00],\n",
       "          [-9.3740e+00,  2.0868e-01,  1.0468e+01,  ..., -1.8201e+00,\n",
       "            4.3120e+00,  8.5282e-01]]],\n",
       "\n",
       "\n",
       "        [[[ 4.9161e+00, -7.0389e+00,  4.9201e+00,  ..., -3.8884e+00,\n",
       "           -5.3861e+00,  1.8070e+00],\n",
       "          [-6.3503e+00, -1.8333e+00, -6.5617e+00,  ..., -4.5885e+00,\n",
       "           -3.4541e+00, -5.6528e+00],\n",
       "          [-7.8303e+00, -5.6679e+00, -9.6337e-01,  ..., -4.9261e+00,\n",
       "           -1.2715e+01, -3.3361e+00],\n",
       "          ...,\n",
       "          [-4.8551e+00,  2.9821e+00,  3.9874e+00,  ..., -8.3482e-01,\n",
       "            6.3801e+00, -7.0026e+00],\n",
       "          [ 4.6936e-01,  1.2070e+00, -3.1331e+00,  ..., -7.9175e+00,\n",
       "           -6.9318e-02, -3.4671e+00],\n",
       "          [ 3.7764e+00, -5.4815e+00, -4.5994e+00,  ..., -3.3017e+00,\n",
       "           -3.7052e+00, -4.7532e+00]],\n",
       "\n",
       "         [[ 1.9022e+00, -6.4929e+00, -5.5661e+00,  ...,  8.2123e+00,\n",
       "           -9.6723e+00,  4.9417e+00],\n",
       "          [-2.5436e+00, -4.7405e+00, -5.6690e-01,  ..., -8.4044e+00,\n",
       "           -6.7537e+00, -8.9600e+00],\n",
       "          [ 4.1834e+00,  5.6192e+00, -4.8266e+00,  ..., -2.5859e+00,\n",
       "           -1.3947e+00,  3.8758e+00],\n",
       "          ...,\n",
       "          [-1.4164e+00,  2.8935e-01, -2.9096e+00,  ..., -2.8147e+00,\n",
       "           -3.2342e-01, -1.5592e+00],\n",
       "          [-1.2506e+00,  4.0323e+00,  1.6844e+00,  ...,  6.5597e+00,\n",
       "           -4.5509e+00, -1.6500e+00],\n",
       "          [-8.3178e+00, -5.6054e-01, -8.8524e+00,  ..., -4.6013e+00,\n",
       "           -3.1069e+00, -2.1612e+00]],\n",
       "\n",
       "         [[-1.8471e+00, -1.6747e+00,  5.0650e+00,  ...,  2.3138e+00,\n",
       "            1.6916e+00,  2.1935e+00],\n",
       "          [ 1.8771e+00,  5.4472e-01,  4.2364e+00,  ..., -6.3827e+00,\n",
       "            2.5785e+00, -2.2679e+00],\n",
       "          [-2.5181e+00, -4.8754e+00,  2.3480e+00,  ..., -2.8556e+00,\n",
       "           -6.2142e-01, -8.8611e-01],\n",
       "          ...,\n",
       "          [-1.7789e+00, -2.9671e+00, -6.7734e+00,  ..., -2.2147e+00,\n",
       "            9.4894e-01, -3.3086e+00],\n",
       "          [-1.9015e+00,  4.3844e+00, -2.5739e+00,  ...,  5.9025e+00,\n",
       "           -2.8894e+00, -2.6767e+00],\n",
       "          [-2.2820e+00, -5.1650e+00,  1.1339e+00,  ..., -7.7151e+00,\n",
       "            7.9079e-01,  1.8476e+00]]]])"
      ]
     },
     "execution_count": 62,
     "metadata": {},
     "output_type": "execute_result"
    }
   ],
   "source": [
    "(a-mean)/std"
   ]
  },
  {
   "cell_type": "code",
   "execution_count": 63,
   "metadata": {},
   "outputs": [],
   "source": [
    "tt = torch.randn(2,3,4,5,3)"
   ]
  },
  {
   "cell_type": "code",
   "execution_count": 65,
   "metadata": {},
   "outputs": [
    {
     "name": "stdout",
     "output_type": "stream",
     "text": [
      "<generator object <genexpr> at 0x7f1f0c590ed0>\n"
     ]
    }
   ],
   "source": [
    "print((i.shape for i in tt))"
   ]
  },
  {
   "cell_type": "code",
   "execution_count": 76,
   "metadata": {},
   "outputs": [],
   "source": [
    "t1 = torch.randn(5,2,3)"
   ]
  },
  {
   "cell_type": "code",
   "execution_count": 77,
   "metadata": {},
   "outputs": [
    {
     "data": {
      "text/plain": [
       "torch.Size([5, 2, 3])"
      ]
     },
     "execution_count": 77,
     "metadata": {},
     "output_type": "execute_result"
    }
   ],
   "source": [
    "t1.shape"
   ]
  },
  {
   "cell_type": "code",
   "execution_count": 78,
   "metadata": {},
   "outputs": [
    {
     "data": {
      "text/plain": [
       "torch.Size([1, 5, 2, 3])"
      ]
     },
     "execution_count": 78,
     "metadata": {},
     "output_type": "execute_result"
    }
   ],
   "source": [
    "t1.unsqueeze(0).shape"
   ]
  },
  {
   "cell_type": "code",
   "execution_count": 79,
   "metadata": {},
   "outputs": [
    {
     "data": {
      "text/plain": [
       "torch.Size([5, 2, 3])"
      ]
     },
     "execution_count": 79,
     "metadata": {},
     "output_type": "execute_result"
    }
   ],
   "source": [
    "t1.shape"
   ]
  },
  {
   "cell_type": "code",
   "execution_count": 82,
   "metadata": {},
   "outputs": [
    {
     "data": {
      "text/plain": [
       "torch.Size([2, 5, 2, 3])"
      ]
     },
     "execution_count": 82,
     "metadata": {},
     "output_type": "execute_result"
    }
   ],
   "source": [
    "torch.cat((t1.unsqueeze(0),t1.unsqueeze(0)), 0).shape"
   ]
  },
  {
   "cell_type": "code",
   "execution_count": 8,
   "metadata": {},
   "outputs": [],
   "source": [
    "import time"
   ]
  },
  {
   "cell_type": "code",
   "execution_count": 9,
   "metadata": {},
   "outputs": [
    {
     "data": {
      "text/plain": [
       "1543642276.244461"
      ]
     },
     "execution_count": 9,
     "metadata": {},
     "output_type": "execute_result"
    }
   ],
   "source": [
    "time.time()"
   ]
  },
  {
   "cell_type": "code",
   "execution_count": 10,
   "metadata": {},
   "outputs": [
    {
     "data": {
      "text/plain": [
       "time.struct_time(tm_year=2018, tm_mon=12, tm_mday=1, tm_hour=0, tm_min=31, tm_sec=22, tm_wday=5, tm_yday=335, tm_isdst=0)"
      ]
     },
     "execution_count": 10,
     "metadata": {},
     "output_type": "execute_result"
    }
   ],
   "source": [
    "time.localtime()"
   ]
  },
  {
   "cell_type": "code",
   "execution_count": 11,
   "metadata": {},
   "outputs": [
    {
     "data": {
      "text/plain": [
       "time.struct_time(tm_year=2018, tm_mon=12, tm_mday=1, tm_hour=5, tm_min=32, tm_sec=10, tm_wday=5, tm_yday=335, tm_isdst=0)"
      ]
     },
     "execution_count": 11,
     "metadata": {},
     "output_type": "execute_result"
    }
   ],
   "source": [
    "time.gmtime()"
   ]
  },
  {
   "cell_type": "code",
   "execution_count": 17,
   "metadata": {},
   "outputs": [
    {
     "data": {
      "text/plain": [
       "'2018-12-01-05-34-23_UTC'"
      ]
     },
     "execution_count": 17,
     "metadata": {},
     "output_type": "execute_result"
    }
   ],
   "source": [
    "time.strftime(\"%Y-%m-%d-%H-%M-%S_UTC\", time.gmtime()) "
   ]
  },
  {
   "cell_type": "code",
   "execution_count": 20,
   "metadata": {},
   "outputs": [],
   "source": [
    "# model.eval()\n",
    "model.train()"
   ]
  },
  {
   "cell_type": "code",
   "execution_count": 16,
   "metadata": {},
   "outputs": [
    {
     "name": "stdout",
     "output_type": "stream",
     "text": [
      "Discriminator(\n",
      "  (vgg16): Sequential(\n",
      "    (0): Conv2d(3, 64, kernel_size=(3, 3), stride=(1, 1), padding=(1, 1))\n",
      "    (1): BatchNorm2d(64, eps=1e-05, momentum=0.1, affine=True, track_running_stats=True)\n",
      "    (2): ReLU(inplace)\n",
      "    (3): Conv2d(64, 64, kernel_size=(3, 3), stride=(1, 1), padding=(1, 1))\n",
      "    (4): BatchNorm2d(64, eps=1e-05, momentum=0.1, affine=True, track_running_stats=True)\n",
      "    (5): ReLU(inplace)\n",
      "    (6): MaxPool2d(kernel_size=2, stride=2, padding=0, dilation=1, ceil_mode=False)\n",
      "    (7): Conv2d(64, 128, kernel_size=(3, 3), stride=(1, 1), padding=(1, 1))\n",
      "    (8): BatchNorm2d(128, eps=1e-05, momentum=0.1, affine=True, track_running_stats=True)\n",
      "    (9): ReLU(inplace)\n",
      "    (10): Conv2d(128, 128, kernel_size=(3, 3), stride=(1, 1), padding=(1, 1))\n",
      "    (11): BatchNorm2d(128, eps=1e-05, momentum=0.1, affine=True, track_running_stats=True)\n",
      "    (12): ReLU(inplace)\n",
      "    (13): MaxPool2d(kernel_size=2, stride=2, padding=0, dilation=1, ceil_mode=False)\n",
      "    (14): Conv2d(128, 256, kernel_size=(3, 3), stride=(1, 1), padding=(1, 1))\n",
      "    (15): BatchNorm2d(256, eps=1e-05, momentum=0.1, affine=True, track_running_stats=True)\n",
      "    (16): ReLU(inplace)\n",
      "    (17): Conv2d(256, 256, kernel_size=(3, 3), stride=(1, 1), padding=(1, 1))\n",
      "    (18): BatchNorm2d(256, eps=1e-05, momentum=0.1, affine=True, track_running_stats=True)\n",
      "    (19): ReLU(inplace)\n",
      "    (20): Conv2d(256, 256, kernel_size=(3, 3), stride=(1, 1), padding=(1, 1))\n",
      "    (21): BatchNorm2d(256, eps=1e-05, momentum=0.1, affine=True, track_running_stats=True)\n",
      "    (22): ReLU(inplace)\n",
      "    (23): MaxPool2d(kernel_size=2, stride=2, padding=0, dilation=1, ceil_mode=False)\n",
      "    (24): Conv2d(256, 512, kernel_size=(3, 3), stride=(1, 1), padding=(1, 1))\n",
      "    (25): BatchNorm2d(512, eps=1e-05, momentum=0.1, affine=True, track_running_stats=True)\n",
      "    (26): ReLU(inplace)\n",
      "    (27): Conv2d(512, 512, kernel_size=(3, 3), stride=(1, 1), padding=(1, 1))\n",
      "    (28): BatchNorm2d(512, eps=1e-05, momentum=0.1, affine=True, track_running_stats=True)\n",
      "    (29): ReLU(inplace)\n",
      "    (30): Conv2d(512, 512, kernel_size=(3, 3), stride=(1, 1), padding=(1, 1))\n",
      "    (31): BatchNorm2d(512, eps=1e-05, momentum=0.1, affine=True, track_running_stats=True)\n",
      "    (32): ReLU(inplace)\n",
      "    (33): MaxPool2d(kernel_size=2, stride=2, padding=0, dilation=1, ceil_mode=False)\n",
      "    (34): Conv2d(512, 512, kernel_size=(3, 3), stride=(1, 1), padding=(1, 1))\n",
      "    (35): BatchNorm2d(512, eps=1e-05, momentum=0.1, affine=True, track_running_stats=True)\n",
      "    (36): ReLU(inplace)\n",
      "    (37): Conv2d(512, 512, kernel_size=(3, 3), stride=(1, 1), padding=(1, 1))\n",
      "    (38): BatchNorm2d(512, eps=1e-05, momentum=0.1, affine=True, track_running_stats=True)\n",
      "    (39): ReLU(inplace)\n",
      "    (40): Conv2d(512, 512, kernel_size=(3, 3), stride=(1, 1), padding=(1, 1))\n",
      "    (41): BatchNorm2d(512, eps=1e-05, momentum=0.1, affine=True, track_running_stats=True)\n",
      "    (42): ReLU(inplace)\n",
      "    (43): MaxPool2d(kernel_size=2, stride=2, padding=0, dilation=1, ceil_mode=False)\n",
      "  )\n",
      "  (classifier): Sequential(\n",
      "    (0): Linear(in_features=50176, out_features=1024, bias=True)\n",
      "    (1): ReLU(inplace)\n",
      "    (2): Dropout(p=0.5)\n",
      "    (3): Linear(in_features=1024, out_features=1024, bias=True)\n",
      "    (4): ReLU(inplace)\n",
      "    (5): Dropout(p=0.5)\n",
      "    (6): Linear(in_features=1024, out_features=1, bias=True)\n",
      "    (7): Sigmoid()\n",
      "  )\n",
      ")\n"
     ]
    }
   ],
   "source": [
    "print(model.D)"
   ]
  },
  {
   "cell_type": "code",
   "execution_count": 21,
   "metadata": {
    "scrolled": false
   },
   "outputs": [
    {
     "name": "stdout",
     "output_type": "stream",
     "text": [
      "Generator(\n",
      "  (encoder): Encoder(\n",
      "    (model): Sequential(\n",
      "      (0): ZeroPad2d(padding=(1, 1, 1, 1), value=0)\n",
      "      (1): Conv2d(3, 64, kernel_size=(3, 3), stride=(1, 1))\n",
      "      (2): InstanceNorm2d(64, eps=1e-05, momentum=0.1, affine=False, track_running_stats=False)\n",
      "      (3): ReLU(inplace)\n",
      "      (4): ZeroPad2d(padding=(1, 1, 1, 1), value=0)\n",
      "      (5): Conv2d(64, 64, kernel_size=(3, 3), stride=(1, 1))\n",
      "      (6): InstanceNorm2d(64, eps=1e-05, momentum=0.1, affine=False, track_running_stats=False)\n",
      "      (7): ReLU(inplace)\n",
      "    )\n",
      "  )\n",
      "  (decoder): Decoder(\n",
      "    (model): Sequential(\n",
      "      (0): ZeroPad2d(padding=(1, 1, 1, 1), value=0)\n",
      "      (1): ConvTranspose2d(64, 64, kernel_size=(3, 3), stride=(1, 1))\n",
      "      (2): InstanceNorm2d(64, eps=1e-05, momentum=0.1, affine=False, track_running_stats=False)\n",
      "      (3): ReLU()\n",
      "      (4): ZeroPad2d(padding=(1, 1, 1, 1), value=0)\n",
      "      (5): ConvTranspose2d(64, 3, kernel_size=(3, 3), stride=(1, 1))\n",
      "      (6): InstanceNorm2d(64, eps=1e-05, momentum=0.1, affine=False, track_running_stats=False)\n",
      "      (7): Sigmoid()\n",
      "    )\n",
      "  )\n",
      "  (style_extractor): StyleExtractor(\n",
      "    (vgg16): Sequential(\n",
      "      (0): Conv2d(3, 64, kernel_size=(3, 3), stride=(1, 1), padding=(1, 1))\n",
      "      (1): BatchNorm2d(64, eps=1e-05, momentum=0.1, affine=True, track_running_stats=True)\n",
      "      (2): ReLU(inplace)\n",
      "      (3): Conv2d(64, 64, kernel_size=(3, 3), stride=(1, 1), padding=(1, 1))\n",
      "      (4): BatchNorm2d(64, eps=1e-05, momentum=0.1, affine=True, track_running_stats=True)\n",
      "      (5): ReLU(inplace)\n",
      "      (6): MaxPool2d(kernel_size=2, stride=2, padding=0, dilation=1, ceil_mode=False)\n",
      "      (7): Conv2d(64, 128, kernel_size=(3, 3), stride=(1, 1), padding=(1, 1))\n",
      "      (8): BatchNorm2d(128, eps=1e-05, momentum=0.1, affine=True, track_running_stats=True)\n",
      "      (9): ReLU(inplace)\n",
      "      (10): Conv2d(128, 128, kernel_size=(3, 3), stride=(1, 1), padding=(1, 1))\n",
      "      (11): BatchNorm2d(128, eps=1e-05, momentum=0.1, affine=True, track_running_stats=True)\n",
      "      (12): ReLU(inplace)\n",
      "      (13): MaxPool2d(kernel_size=2, stride=2, padding=0, dilation=1, ceil_mode=False)\n",
      "      (14): Conv2d(128, 256, kernel_size=(3, 3), stride=(1, 1), padding=(1, 1))\n",
      "      (15): BatchNorm2d(256, eps=1e-05, momentum=0.1, affine=True, track_running_stats=True)\n",
      "      (16): ReLU(inplace)\n",
      "      (17): Conv2d(256, 256, kernel_size=(3, 3), stride=(1, 1), padding=(1, 1))\n",
      "      (18): BatchNorm2d(256, eps=1e-05, momentum=0.1, affine=True, track_running_stats=True)\n",
      "      (19): ReLU(inplace)\n",
      "      (20): Conv2d(256, 256, kernel_size=(3, 3), stride=(1, 1), padding=(1, 1))\n",
      "      (21): BatchNorm2d(256, eps=1e-05, momentum=0.1, affine=True, track_running_stats=True)\n",
      "      (22): ReLU(inplace)\n",
      "      (23): MaxPool2d(kernel_size=2, stride=2, padding=0, dilation=1, ceil_mode=False)\n",
      "      (24): Conv2d(256, 512, kernel_size=(3, 3), stride=(1, 1), padding=(1, 1))\n",
      "      (25): BatchNorm2d(512, eps=1e-05, momentum=0.1, affine=True, track_running_stats=True)\n",
      "      (26): ReLU(inplace)\n",
      "      (27): Conv2d(512, 512, kernel_size=(3, 3), stride=(1, 1), padding=(1, 1))\n",
      "      (28): BatchNorm2d(512, eps=1e-05, momentum=0.1, affine=True, track_running_stats=True)\n",
      "      (29): ReLU(inplace)\n",
      "      (30): Conv2d(512, 512, kernel_size=(3, 3), stride=(1, 1), padding=(1, 1))\n",
      "      (31): BatchNorm2d(512, eps=1e-05, momentum=0.1, affine=True, track_running_stats=True)\n",
      "      (32): ReLU(inplace)\n",
      "      (33): MaxPool2d(kernel_size=2, stride=2, padding=0, dilation=1, ceil_mode=False)\n",
      "      (34): Conv2d(512, 512, kernel_size=(3, 3), stride=(1, 1), padding=(1, 1))\n",
      "      (35): BatchNorm2d(512, eps=1e-05, momentum=0.1, affine=True, track_running_stats=True)\n",
      "      (36): ReLU(inplace)\n",
      "      (37): Conv2d(512, 512, kernel_size=(3, 3), stride=(1, 1), padding=(1, 1))\n",
      "      (38): BatchNorm2d(512, eps=1e-05, momentum=0.1, affine=True, track_running_stats=True)\n",
      "      (39): ReLU(inplace)\n",
      "      (40): Conv2d(512, 512, kernel_size=(3, 3), stride=(1, 1), padding=(1, 1))\n",
      "      (41): BatchNorm2d(512, eps=1e-05, momentum=0.1, affine=True, track_running_stats=True)\n",
      "      (42): ReLU(inplace)\n",
      "      (43): MaxPool2d(kernel_size=2, stride=2, padding=0, dilation=1, ceil_mode=False)\n",
      "    )\n",
      "    (representor): Sequential(\n",
      "      (0): Linear(in_features=25088, out_features=1024, bias=True)\n",
      "      (1): ReLU(inplace)\n",
      "      (2): Dropout(p=0.5)\n",
      "    )\n",
      "    (conv_kernel_gen_1): Sequential(\n",
      "      (0): Linear(in_features=1024, out_features=36864, bias=True)\n",
      "      (1): Tanh()\n",
      "    )\n",
      "    (conv_kernel_gen_2): Sequential(\n",
      "      (0): Linear(in_features=1024, out_features=36864, bias=True)\n",
      "      (1): Tanh()\n",
      "    )\n",
      "    (conv_kernel_gen_3): Sequential(\n",
      "      (0): Linear(in_features=1024, out_features=36864, bias=True)\n",
      "      (1): Tanh()\n",
      "    )\n",
      "    (conv_kernel_gen_4): Sequential(\n",
      "      (0): Linear(in_features=1024, out_features=36864, bias=True)\n",
      "      (1): Tanh()\n",
      "    )\n",
      "  )\n",
      "  (style_whitener): StyleWhitener(\n",
      "    (model): Sequential(\n",
      "      (0): ResnetBlock(\n",
      "        (conv_block): Sequential(\n",
      "          (0): ZeroPad2d(padding=(1, 1, 1, 1), value=0)\n",
      "          (1): Conv2d(64, 64, kernel_size=(3, 3), stride=(1, 1))\n",
      "          (2): InstanceNorm2d(64, eps=1e-05, momentum=0.1, affine=False, track_running_stats=False)\n",
      "          (3): ReLU(inplace)\n",
      "          (4): ZeroPad2d(padding=(1, 1, 1, 1), value=0)\n",
      "          (5): Conv2d(64, 64, kernel_size=(3, 3), stride=(1, 1))\n",
      "          (6): InstanceNorm2d(64, eps=1e-05, momentum=0.1, affine=False, track_running_stats=False)\n",
      "        )\n",
      "      )\n",
      "      (1): ResnetBlock(\n",
      "        (conv_block): Sequential(\n",
      "          (0): ZeroPad2d(padding=(1, 1, 1, 1), value=0)\n",
      "          (1): Conv2d(64, 64, kernel_size=(3, 3), stride=(1, 1))\n",
      "          (2): InstanceNorm2d(64, eps=1e-05, momentum=0.1, affine=False, track_running_stats=False)\n",
      "          (3): ReLU(inplace)\n",
      "          (4): ZeroPad2d(padding=(1, 1, 1, 1), value=0)\n",
      "          (5): Conv2d(64, 64, kernel_size=(3, 3), stride=(1, 1))\n",
      "          (6): InstanceNorm2d(64, eps=1e-05, momentum=0.1, affine=False, track_running_stats=False)\n",
      "        )\n",
      "      )\n",
      "    )\n",
      "  )\n",
      "  (stylizer): Stylizer(\n",
      "    (ksr_block1): KernelSpecifiedResnetBlock()\n",
      "    (ksr_block2): KernelSpecifiedResnetBlock()\n",
      "  )\n",
      ")\n"
     ]
    }
   ],
   "source": [
    "print(model.G)"
   ]
  },
  {
   "cell_type": "code",
   "execution_count": null,
   "metadata": {},
   "outputs": [],
   "source": []
  }
 ],
 "metadata": {
  "kernelspec": {
   "display_name": "Python 3",
   "language": "python",
   "name": "python3"
  },
  "language_info": {
   "codemirror_mode": {
    "name": "ipython",
    "version": 3
   },
   "file_extension": ".py",
   "mimetype": "text/x-python",
   "name": "python",
   "nbconvert_exporter": "python",
   "pygments_lexer": "ipython3",
   "version": "3.7.0"
  }
 },
 "nbformat": 4,
 "nbformat_minor": 2
}
