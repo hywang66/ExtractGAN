{
 "cells": [
  {
   "cell_type": "markdown",
   "metadata": {},
   "source": [
    "# Examples "
   ]
  },
  {
   "cell_type": "code",
   "execution_count": 1,
   "metadata": {},
   "outputs": [],
   "source": [
    "import torch\n",
    "import torch.nn as nn\n",
    "from torch.nn import init\n",
    "from torch.nn import functional as F\n",
    "import torchvision.models\n",
    "import torchvision.transforms as transforms\n",
    "from options.train_options import TrainOptions\n",
    "import extract_gan as E\n",
    "import sys; sys.argv=['']; del sys"
   ]
  },
  {
   "cell_type": "code",
   "execution_count": 2,
   "metadata": {},
   "outputs": [
    {
     "name": "stdout",
     "output_type": "stream",
     "text": [
      "----------------- Options ---------------\n",
      "               batch_size: 1                             \n",
      "                    beta1: 0.5                           \n",
      "          checkpoints_dir: ./checkpoints                 \n",
      "           continue_train: False                         \n",
      "             dataset_mode: unaligned                     \n",
      "                direction: AtoB                          \n",
      "              display_env: main                          \n",
      "             display_freq: 400                           \n",
      "               display_id: 1                             \n",
      "            display_ncols: 4                             \n",
      "             display_port: 8097                          \n",
      "           display_server: http://localhost              \n",
      "          display_winsize: 256                           \n",
      "                    epoch: latest                        \n",
      "              epoch_count: 1                             \n",
      "                 fineSize: 256                           \n",
      "                  gpu_ids: -1                            \n",
      "                init_gain: 0.02                          \n",
      "                init_type: xavier                        \n",
      "                 input_nc: 3                             \n",
      "                  isTrain: True                          \t[default: None]\n",
      "                 loadSize: 286                           \n",
      "                load_iter: 0                             \t[default: 0]\n",
      "                       lr: 0.0002                        \n",
      "           lr_decay_iters: 50                            \n",
      "                lr_policy: lambda                        \n",
      "         max_dataset_size: inf                           \n",
      "                    model: cycle_gan                     \n",
      "               n_layers_D: 3                             \n",
      "                     name: ExtractGAN_2018-12-02-02-24-52_UTC\t[default: experiment_name]\n",
      "                      ndf: 64                            \n",
      "                     netD: basic                         \n",
      "                     netG: resnet_9blocks                \n",
      "                      ngf: 64                            \n",
      "                    niter: 100                           \n",
      "              niter_decay: 100                           \n",
      "               no_dropout: False                         \n",
      "                  no_flip: False                         \n",
      "                  no_html: False                         \n",
      "                 no_lsgan: False                         \n",
      "                     norm: instance                      \n",
      "              num_threads: 1                             \n",
      "                output_nc: 3                             \n",
      "                    phase: train                         \n",
      "                pool_size: 50                            \n",
      "               print_freq: 100                           \n",
      "           resize_or_crop: resize_and_crop               \n",
      "             save_by_iter: False                         \n",
      "          save_epoch_freq: 5                             \n",
      "         save_latest_freq: 5000                          \n",
      "           serial_batches: False                         \n",
      "         update_html_freq: 1000                          \n",
      "                  verbose: False                         \n",
      "----------------- End -------------------\n"
     ]
    }
   ],
   "source": [
    "# Options, basically copied from CycleGAN, thus very verbose. Only a small subset is useful.\n",
    "opt = TrainOptions().parse()"
   ]
  },
  {
   "cell_type": "code",
   "execution_count": 3,
   "metadata": {},
   "outputs": [
    {
     "name": "stdout",
     "output_type": "stream",
     "text": [
      "VGG parameters loaded.\n",
      "Encoder weights initialized using xavier.\n",
      "Decoder weights initialized using xavier.\n",
      "StyleExtractor weights initialized using xavier.\n",
      "StyleWhitener weights initialized using xavier.\n",
      "Generator build success!\n",
      "Discriminator weights initialized using xavier.\n",
      "New ExtractGAN model initialized!\n"
     ]
    }
   ],
   "source": [
    "# Build a model\n",
    "model = E.ExtractGANModel(opt)"
   ]
  },
  {
   "cell_type": "code",
   "execution_count": 4,
   "metadata": {},
   "outputs": [],
   "source": [
    "# Save parameters in ./checkpoints/\n",
    "model.save_networks('test')"
   ]
  },
  {
   "cell_type": "code",
   "execution_count": 5,
   "metadata": {},
   "outputs": [
    {
     "data": {
      "text/plain": [
       "True"
      ]
     },
     "execution_count": 5,
     "metadata": {},
     "output_type": "execute_result"
    }
   ],
   "source": [
    "# It uses only one pretrained vgg in both G and D \n",
    "model.D.vgg16 is model.G.style_extractor.vgg16"
   ]
  },
  {
   "cell_type": "code",
   "execution_count": 6,
   "metadata": {},
   "outputs": [],
   "source": [
    "# Generate some random inputs\n",
    "a = torch.randn(2,3,224,224)\n",
    "b = torch.randn(2,3,224,224)"
   ]
  },
  {
   "cell_type": "code",
   "execution_count": 7,
   "metadata": {
    "scrolled": true
   },
   "outputs": [
    {
     "data": {
      "text/plain": [
       "tensor([[[[0.2790, 0.2790, 0.2790,  ..., 0.2790, 0.2790, 0.2790],\n",
       "          [0.2790, 0.3140, 0.3535,  ..., 0.4588, 0.4151, 0.2790],\n",
       "          [0.2790, 0.4034, 0.5171,  ..., 0.4929, 0.3515, 0.2790],\n",
       "          ...,\n",
       "          [0.2790, 0.3554, 0.5343,  ..., 0.3571, 0.2329, 0.2790],\n",
       "          [0.2790, 0.2719, 0.3144,  ..., 0.3281, 0.2844, 0.2790],\n",
       "          [0.2790, 0.2790, 0.2790,  ..., 0.2790, 0.2790, 0.2790]],\n",
       "\n",
       "         [[0.5095, 0.5095, 0.5095,  ..., 0.5095, 0.5095, 0.5095],\n",
       "          [0.5095, 0.4711, 0.5100,  ..., 0.3915, 0.3550, 0.5095],\n",
       "          [0.5095, 0.4367, 0.4599,  ..., 0.5180, 0.4162, 0.5095],\n",
       "          ...,\n",
       "          [0.5095, 0.5341, 0.5792,  ..., 0.5749, 0.5086, 0.5095],\n",
       "          [0.5095, 0.5684, 0.6209,  ..., 0.4984, 0.4443, 0.5095],\n",
       "          [0.5095, 0.5095, 0.5095,  ..., 0.5095, 0.5095, 0.5095]],\n",
       "\n",
       "         [[0.6938, 0.6938, 0.6938,  ..., 0.6938, 0.6938, 0.6938],\n",
       "          [0.6938, 0.6134, 0.5765,  ..., 0.6115, 0.6473, 0.6938],\n",
       "          [0.6938, 0.6626, 0.6567,  ..., 0.5688, 0.6385, 0.6938],\n",
       "          ...,\n",
       "          [0.6938, 0.7044, 0.7170,  ..., 0.5857, 0.5819, 0.6938],\n",
       "          [0.6938, 0.6582, 0.6744,  ..., 0.6087, 0.5912, 0.6938],\n",
       "          [0.6938, 0.6938, 0.6938,  ..., 0.6938, 0.6938, 0.6938]]],\n",
       "\n",
       "\n",
       "        [[[0.2791, 0.2791, 0.2791,  ..., 0.2791, 0.2791, 0.2791],\n",
       "          [0.2791, 0.3142, 0.3534,  ..., 0.4578, 0.4145, 0.2791],\n",
       "          [0.2791, 0.4035, 0.5408,  ..., 0.5029, 0.3510, 0.2791],\n",
       "          ...,\n",
       "          [0.2791, 0.3555, 0.5638,  ..., 0.3447, 0.2327, 0.2791],\n",
       "          [0.2791, 0.2720, 0.3141,  ..., 0.3272, 0.2841, 0.2791],\n",
       "          [0.2791, 0.2791, 0.2791,  ..., 0.2791, 0.2791, 0.2791]],\n",
       "\n",
       "         [[0.5097, 0.5097, 0.5097,  ..., 0.5097, 0.5097, 0.5097],\n",
       "          [0.5097, 0.4716, 0.5113,  ..., 0.3929, 0.3557, 0.5097],\n",
       "          [0.5097, 0.4372, 0.4800,  ..., 0.5037, 0.4167, 0.5097],\n",
       "          ...,\n",
       "          [0.5097, 0.5344, 0.5987,  ..., 0.5898, 0.5088, 0.5097],\n",
       "          [0.5097, 0.5688, 0.6216,  ..., 0.4993, 0.4446, 0.5097],\n",
       "          [0.5097, 0.5097, 0.5097,  ..., 0.5097, 0.5097, 0.5097]],\n",
       "\n",
       "         [[0.6942, 0.6942, 0.6942,  ..., 0.6942, 0.6942, 0.6942],\n",
       "          [0.6942, 0.6139, 0.5767,  ..., 0.6117, 0.6478, 0.6942],\n",
       "          [0.6942, 0.6631, 0.6750,  ..., 0.5663, 0.6381, 0.6942],\n",
       "          ...,\n",
       "          [0.6942, 0.7052, 0.7112,  ..., 0.5783, 0.5813, 0.6942],\n",
       "          [0.6942, 0.6590, 0.6752,  ..., 0.6091, 0.5916, 0.6942],\n",
       "          [0.6942, 0.6942, 0.6942,  ..., 0.6942, 0.6942, 0.6942]]]],\n",
       "       grad_fn=<SigmoidBackward>)"
      ]
     },
     "execution_count": 7,
     "metadata": {},
     "output_type": "execute_result"
    }
   ],
   "source": [
    "# G works well\n",
    "model.G(a,b)"
   ]
  },
  {
   "cell_type": "code",
   "execution_count": 8,
   "metadata": {},
   "outputs": [
    {
     "data": {
      "text/plain": [
       "tensor([[0.5000],\n",
       "        [0.5000]], grad_fn=<SigmoidBackward>)"
      ]
     },
     "execution_count": 8,
     "metadata": {},
     "output_type": "execute_result"
    }
   ],
   "source": [
    "# D works well too.\n",
    "model.D(a,b)"
   ]
  },
  {
   "cell_type": "code",
   "execution_count": 9,
   "metadata": {},
   "outputs": [
    {
     "name": "stdout",
     "output_type": "stream",
     "text": [
      "Discriminator(\n",
      "  (vgg16): Sequential(\n",
      "    (0): Conv2d(3, 64, kernel_size=(3, 3), stride=(1, 1), padding=(1, 1))\n",
      "    (1): BatchNorm2d(64, eps=1e-05, momentum=0.1, affine=True, track_running_stats=True)\n",
      "    (2): ReLU(inplace)\n",
      "    (3): Conv2d(64, 64, kernel_size=(3, 3), stride=(1, 1), padding=(1, 1))\n",
      "    (4): BatchNorm2d(64, eps=1e-05, momentum=0.1, affine=True, track_running_stats=True)\n",
      "    (5): ReLU(inplace)\n",
      "    (6): MaxPool2d(kernel_size=2, stride=2, padding=0, dilation=1, ceil_mode=False)\n",
      "    (7): Conv2d(64, 128, kernel_size=(3, 3), stride=(1, 1), padding=(1, 1))\n",
      "    (8): BatchNorm2d(128, eps=1e-05, momentum=0.1, affine=True, track_running_stats=True)\n",
      "    (9): ReLU(inplace)\n",
      "    (10): Conv2d(128, 128, kernel_size=(3, 3), stride=(1, 1), padding=(1, 1))\n",
      "    (11): BatchNorm2d(128, eps=1e-05, momentum=0.1, affine=True, track_running_stats=True)\n",
      "    (12): ReLU(inplace)\n",
      "    (13): MaxPool2d(kernel_size=2, stride=2, padding=0, dilation=1, ceil_mode=False)\n",
      "    (14): Conv2d(128, 256, kernel_size=(3, 3), stride=(1, 1), padding=(1, 1))\n",
      "    (15): BatchNorm2d(256, eps=1e-05, momentum=0.1, affine=True, track_running_stats=True)\n",
      "    (16): ReLU(inplace)\n",
      "    (17): Conv2d(256, 256, kernel_size=(3, 3), stride=(1, 1), padding=(1, 1))\n",
      "    (18): BatchNorm2d(256, eps=1e-05, momentum=0.1, affine=True, track_running_stats=True)\n",
      "    (19): ReLU(inplace)\n",
      "    (20): Conv2d(256, 256, kernel_size=(3, 3), stride=(1, 1), padding=(1, 1))\n",
      "    (21): BatchNorm2d(256, eps=1e-05, momentum=0.1, affine=True, track_running_stats=True)\n",
      "    (22): ReLU(inplace)\n",
      "    (23): MaxPool2d(kernel_size=2, stride=2, padding=0, dilation=1, ceil_mode=False)\n",
      "    (24): Conv2d(256, 512, kernel_size=(3, 3), stride=(1, 1), padding=(1, 1))\n",
      "    (25): BatchNorm2d(512, eps=1e-05, momentum=0.1, affine=True, track_running_stats=True)\n",
      "    (26): ReLU(inplace)\n",
      "    (27): Conv2d(512, 512, kernel_size=(3, 3), stride=(1, 1), padding=(1, 1))\n",
      "    (28): BatchNorm2d(512, eps=1e-05, momentum=0.1, affine=True, track_running_stats=True)\n",
      "    (29): ReLU(inplace)\n",
      "    (30): Conv2d(512, 512, kernel_size=(3, 3), stride=(1, 1), padding=(1, 1))\n",
      "    (31): BatchNorm2d(512, eps=1e-05, momentum=0.1, affine=True, track_running_stats=True)\n",
      "    (32): ReLU(inplace)\n",
      "    (33): MaxPool2d(kernel_size=2, stride=2, padding=0, dilation=1, ceil_mode=False)\n",
      "    (34): Conv2d(512, 512, kernel_size=(3, 3), stride=(1, 1), padding=(1, 1))\n",
      "    (35): BatchNorm2d(512, eps=1e-05, momentum=0.1, affine=True, track_running_stats=True)\n",
      "    (36): ReLU(inplace)\n",
      "    (37): Conv2d(512, 512, kernel_size=(3, 3), stride=(1, 1), padding=(1, 1))\n",
      "    (38): BatchNorm2d(512, eps=1e-05, momentum=0.1, affine=True, track_running_stats=True)\n",
      "    (39): ReLU(inplace)\n",
      "    (40): Conv2d(512, 512, kernel_size=(3, 3), stride=(1, 1), padding=(1, 1))\n",
      "    (41): BatchNorm2d(512, eps=1e-05, momentum=0.1, affine=True, track_running_stats=True)\n",
      "    (42): ReLU(inplace)\n",
      "    (43): MaxPool2d(kernel_size=2, stride=2, padding=0, dilation=1, ceil_mode=False)\n",
      "  )\n",
      "  (classifier): Sequential(\n",
      "    (0): Linear(in_features=50176, out_features=1024, bias=True)\n",
      "    (1): ReLU(inplace)\n",
      "    (2): Dropout(p=0.5)\n",
      "    (3): Linear(in_features=1024, out_features=1024, bias=True)\n",
      "    (4): ReLU(inplace)\n",
      "    (5): Dropout(p=0.5)\n",
      "    (6): Linear(in_features=1024, out_features=1, bias=True)\n",
      "    (7): Sigmoid()\n",
      "  )\n",
      ")\n"
     ]
    }
   ],
   "source": [
    "print(model.D)"
   ]
  },
  {
   "cell_type": "code",
   "execution_count": 10,
   "metadata": {
    "scrolled": false
   },
   "outputs": [
    {
     "name": "stdout",
     "output_type": "stream",
     "text": [
      "Generator(\n",
      "  (encoder): Encoder(\n",
      "    (model): Sequential(\n",
      "      (0): ZeroPad2d(padding=(1, 1, 1, 1), value=0)\n",
      "      (1): Conv2d(3, 64, kernel_size=(3, 3), stride=(1, 1))\n",
      "      (2): InstanceNorm2d(64, eps=1e-05, momentum=0.1, affine=False, track_running_stats=False)\n",
      "      (3): ReLU(inplace)\n",
      "      (4): ZeroPad2d(padding=(1, 1, 1, 1), value=0)\n",
      "      (5): Conv2d(64, 64, kernel_size=(3, 3), stride=(1, 1))\n",
      "      (6): InstanceNorm2d(64, eps=1e-05, momentum=0.1, affine=False, track_running_stats=False)\n",
      "      (7): ReLU(inplace)\n",
      "    )\n",
      "  )\n",
      "  (decoder): Decoder(\n",
      "    (model): Sequential(\n",
      "      (0): ZeroPad2d(padding=(1, 1, 1, 1), value=0)\n",
      "      (1): ConvTranspose2d(64, 64, kernel_size=(3, 3), stride=(1, 1))\n",
      "      (2): InstanceNorm2d(64, eps=1e-05, momentum=0.1, affine=False, track_running_stats=False)\n",
      "      (3): ReLU()\n",
      "      (4): ZeroPad2d(padding=(1, 1, 1, 1), value=0)\n",
      "      (5): ConvTranspose2d(64, 3, kernel_size=(3, 3), stride=(1, 1))\n",
      "      (6): InstanceNorm2d(64, eps=1e-05, momentum=0.1, affine=False, track_running_stats=False)\n",
      "      (7): Sigmoid()\n",
      "    )\n",
      "  )\n",
      "  (style_extractor): StyleExtractor(\n",
      "    (vgg16): Sequential(\n",
      "      (0): Conv2d(3, 64, kernel_size=(3, 3), stride=(1, 1), padding=(1, 1))\n",
      "      (1): BatchNorm2d(64, eps=1e-05, momentum=0.1, affine=True, track_running_stats=True)\n",
      "      (2): ReLU(inplace)\n",
      "      (3): Conv2d(64, 64, kernel_size=(3, 3), stride=(1, 1), padding=(1, 1))\n",
      "      (4): BatchNorm2d(64, eps=1e-05, momentum=0.1, affine=True, track_running_stats=True)\n",
      "      (5): ReLU(inplace)\n",
      "      (6): MaxPool2d(kernel_size=2, stride=2, padding=0, dilation=1, ceil_mode=False)\n",
      "      (7): Conv2d(64, 128, kernel_size=(3, 3), stride=(1, 1), padding=(1, 1))\n",
      "      (8): BatchNorm2d(128, eps=1e-05, momentum=0.1, affine=True, track_running_stats=True)\n",
      "      (9): ReLU(inplace)\n",
      "      (10): Conv2d(128, 128, kernel_size=(3, 3), stride=(1, 1), padding=(1, 1))\n",
      "      (11): BatchNorm2d(128, eps=1e-05, momentum=0.1, affine=True, track_running_stats=True)\n",
      "      (12): ReLU(inplace)\n",
      "      (13): MaxPool2d(kernel_size=2, stride=2, padding=0, dilation=1, ceil_mode=False)\n",
      "      (14): Conv2d(128, 256, kernel_size=(3, 3), stride=(1, 1), padding=(1, 1))\n",
      "      (15): BatchNorm2d(256, eps=1e-05, momentum=0.1, affine=True, track_running_stats=True)\n",
      "      (16): ReLU(inplace)\n",
      "      (17): Conv2d(256, 256, kernel_size=(3, 3), stride=(1, 1), padding=(1, 1))\n",
      "      (18): BatchNorm2d(256, eps=1e-05, momentum=0.1, affine=True, track_running_stats=True)\n",
      "      (19): ReLU(inplace)\n",
      "      (20): Conv2d(256, 256, kernel_size=(3, 3), stride=(1, 1), padding=(1, 1))\n",
      "      (21): BatchNorm2d(256, eps=1e-05, momentum=0.1, affine=True, track_running_stats=True)\n",
      "      (22): ReLU(inplace)\n",
      "      (23): MaxPool2d(kernel_size=2, stride=2, padding=0, dilation=1, ceil_mode=False)\n",
      "      (24): Conv2d(256, 512, kernel_size=(3, 3), stride=(1, 1), padding=(1, 1))\n",
      "      (25): BatchNorm2d(512, eps=1e-05, momentum=0.1, affine=True, track_running_stats=True)\n",
      "      (26): ReLU(inplace)\n",
      "      (27): Conv2d(512, 512, kernel_size=(3, 3), stride=(1, 1), padding=(1, 1))\n",
      "      (28): BatchNorm2d(512, eps=1e-05, momentum=0.1, affine=True, track_running_stats=True)\n",
      "      (29): ReLU(inplace)\n",
      "      (30): Conv2d(512, 512, kernel_size=(3, 3), stride=(1, 1), padding=(1, 1))\n",
      "      (31): BatchNorm2d(512, eps=1e-05, momentum=0.1, affine=True, track_running_stats=True)\n",
      "      (32): ReLU(inplace)\n",
      "      (33): MaxPool2d(kernel_size=2, stride=2, padding=0, dilation=1, ceil_mode=False)\n",
      "      (34): Conv2d(512, 512, kernel_size=(3, 3), stride=(1, 1), padding=(1, 1))\n",
      "      (35): BatchNorm2d(512, eps=1e-05, momentum=0.1, affine=True, track_running_stats=True)\n",
      "      (36): ReLU(inplace)\n",
      "      (37): Conv2d(512, 512, kernel_size=(3, 3), stride=(1, 1), padding=(1, 1))\n",
      "      (38): BatchNorm2d(512, eps=1e-05, momentum=0.1, affine=True, track_running_stats=True)\n",
      "      (39): ReLU(inplace)\n",
      "      (40): Conv2d(512, 512, kernel_size=(3, 3), stride=(1, 1), padding=(1, 1))\n",
      "      (41): BatchNorm2d(512, eps=1e-05, momentum=0.1, affine=True, track_running_stats=True)\n",
      "      (42): ReLU(inplace)\n",
      "      (43): MaxPool2d(kernel_size=2, stride=2, padding=0, dilation=1, ceil_mode=False)\n",
      "    )\n",
      "    (representor): Sequential(\n",
      "      (0): Linear(in_features=25088, out_features=1024, bias=True)\n",
      "      (1): ReLU(inplace)\n",
      "      (2): Dropout(p=0.5)\n",
      "    )\n",
      "    (conv_kernel_gen_1): Sequential(\n",
      "      (0): Linear(in_features=1024, out_features=36864, bias=True)\n",
      "      (1): Tanh()\n",
      "    )\n",
      "    (conv_kernel_gen_2): Sequential(\n",
      "      (0): Linear(in_features=1024, out_features=36864, bias=True)\n",
      "      (1): Tanh()\n",
      "    )\n",
      "    (conv_kernel_gen_3): Sequential(\n",
      "      (0): Linear(in_features=1024, out_features=36864, bias=True)\n",
      "      (1): Tanh()\n",
      "    )\n",
      "    (conv_kernel_gen_4): Sequential(\n",
      "      (0): Linear(in_features=1024, out_features=36864, bias=True)\n",
      "      (1): Tanh()\n",
      "    )\n",
      "  )\n",
      "  (style_whitener): StyleWhitener(\n",
      "    (model): Sequential(\n",
      "      (0): ResnetBlock(\n",
      "        (conv_block): Sequential(\n",
      "          (0): ZeroPad2d(padding=(1, 1, 1, 1), value=0)\n",
      "          (1): Conv2d(64, 64, kernel_size=(3, 3), stride=(1, 1))\n",
      "          (2): InstanceNorm2d(64, eps=1e-05, momentum=0.1, affine=False, track_running_stats=False)\n",
      "          (3): ReLU(inplace)\n",
      "          (4): ZeroPad2d(padding=(1, 1, 1, 1), value=0)\n",
      "          (5): Conv2d(64, 64, kernel_size=(3, 3), stride=(1, 1))\n",
      "          (6): InstanceNorm2d(64, eps=1e-05, momentum=0.1, affine=False, track_running_stats=False)\n",
      "        )\n",
      "      )\n",
      "      (1): ResnetBlock(\n",
      "        (conv_block): Sequential(\n",
      "          (0): ZeroPad2d(padding=(1, 1, 1, 1), value=0)\n",
      "          (1): Conv2d(64, 64, kernel_size=(3, 3), stride=(1, 1))\n",
      "          (2): InstanceNorm2d(64, eps=1e-05, momentum=0.1, affine=False, track_running_stats=False)\n",
      "          (3): ReLU(inplace)\n",
      "          (4): ZeroPad2d(padding=(1, 1, 1, 1), value=0)\n",
      "          (5): Conv2d(64, 64, kernel_size=(3, 3), stride=(1, 1))\n",
      "          (6): InstanceNorm2d(64, eps=1e-05, momentum=0.1, affine=False, track_running_stats=False)\n",
      "        )\n",
      "      )\n",
      "    )\n",
      "  )\n",
      "  (stylizer): Stylizer(\n",
      "    (ksr_block1): KernelSpecifiedResnetBlock()\n",
      "    (ksr_block2): KernelSpecifiedResnetBlock()\n",
      "  )\n",
      ")\n"
     ]
    }
   ],
   "source": [
    "print(model.G)"
   ]
  },
  {
   "cell_type": "code",
   "execution_count": null,
   "metadata": {},
   "outputs": [],
   "source": []
  }
 ],
 "metadata": {
  "kernelspec": {
   "display_name": "Python 3",
   "language": "python",
   "name": "python3"
  },
  "language_info": {
   "codemirror_mode": {
    "name": "ipython",
    "version": 3
   },
   "file_extension": ".py",
   "mimetype": "text/x-python",
   "name": "python",
   "nbconvert_exporter": "python",
   "pygments_lexer": "ipython3",
   "version": "3.7.0"
  }
 },
 "nbformat": 4,
 "nbformat_minor": 2
}
